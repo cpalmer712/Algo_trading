{
 "cells": [
  {
   "cell_type": "code",
   "execution_count": 1,
   "id": "5f331314",
   "metadata": {},
   "outputs": [],
   "source": [
    "from alpaca_trade_api import REST, Stream\n",
    "import csv\n",
    "import pandas as pd\n",
    "from my_secrets import APCA_API_KEY_ID, APCA_API_SECRET_KEY"
   ]
  },
  {
   "cell_type": "code",
   "execution_count": 2,
   "id": "91b9f863",
   "metadata": {},
   "outputs": [],
   "source": [
    "# Function to calculate the moving averages\n",
    "def calculate_moving_averages(prices, short_window=5, long_window=20):\n",
    "    short_ma = sum(prices[-short_window:]) / short_window\n",
    "    long_ma = sum(prices[-long_window:]) / long_window\n",
    "    return short_ma, long_ma"
   ]
  },
  {
   "cell_type": "code",
   "execution_count": 3,
   "id": "055ddf76",
   "metadata": {},
   "outputs": [],
   "source": [
    "# Function to generate a signal based on moving average crossover\n",
    "def generate_signal(prices, short_window=5, long_window=20):\n",
    "    if len(prices) < long_window:\n",
    "        return None  # Not enough data to generate a signal\n",
    "\n",
    "    short_ma, long_ma = calculate_moving_averages(prices, short_window, long_window)\n",
    "\n",
    "    if short_ma > long_ma:\n",
    "        return 'BUY'\n",
    "    elif short_ma < long_ma:\n",
    "        return 'SELL'\n",
    "    else:\n",
    "        return None\n",
    "\n",
    "# Main loop to simulate live data and execute trades based on signals"
   ]
  },
  {
   "cell_type": "code",
   "execution_count": 4,
   "id": "1de017f7",
   "metadata": {},
   "outputs": [],
   "source": [
    "def main():\n",
    "    api = REST(APCA_API_KEY_ID, APCA_API_SECRET_KEY)\n",
    "\n",
    "    # Define trading parameters\n",
    "    symbol = 'BTCUSD'\n",
    "    short_window = 5\n",
    "    long_window = 20\n",
    "    initial_cash = 1000\n",
    "\n",
    "    # Get historical data for initialization\n",
    "    historical_data = api.get_barset(symbol, '1Min', limit=long_window+1).df[symbol]\n",
    "\n",
    "    # Initialize prices list with historical data\n",
    "    prices = list(historical_data['close'])\n",
    "\n",
    "    # Initialize the portfolio with cash and no positions\n",
    "    cash = initial_cash\n",
    "    position = 0\n",
    "\n",
    "    for BTC in Stream(APCA_API_KEY_ID, APCA_API_SECRET_KEY, raw_data=False).subscribe_crypto_bars():\n",
    "        print(BTC)\n",
    "\n",
    "        # Update prices list with the latest data\n",
    "        prices.append(BTC.close)\n",
    "\n",
    "        # Generate a signal based on moving average crossover\n",
    "        signal = generate_signal(prices, short_window, long_window)\n",
    "\n",
    "        if signal == 'BUY' and cash > 0:\n",
    "            # Place a buy order\n",
    "            quantity = cash / BTC.close  # Allocate all available cash to buy BTC\n",
    "            api.submit_order(\n",
    "                symbol=symbol,\n",
    "                qty=quantity,\n",
    "                side='buy',\n",
    "                type='market',\n",
    "                time_in_force='gtc'\n",
    "            )\n",
    "            cash = 0\n",
    "            position += quantity\n",
    "\n",
    "        elif signal == 'SELL' and position > 0:\n",
    "            # Place a sell order\n",
    "            api.submit_order(\n",
    "                symbol=symbol,\n",
    "                qty=position,\n",
    "                side='sell',\n",
    "                type='market',\n",
    "                time_in_force='gtc'\n",
    "            )\n",
    "            cash += position * BTC.close\n",
    "            position = 0\n",
    "\n",
    "        # Remove the oldest price to keep the list length consistent with the window sizes\n",
    "        prices.pop(0)\n"
   ]
  },
  {
   "cell_type": "code",
   "execution_count": 5,
   "id": "35a061f7",
   "metadata": {},
   "outputs": [
    {
     "ename": "AttributeError",
     "evalue": "'REST' object has no attribute 'get_barset'",
     "output_type": "error",
     "traceback": [
      "\u001b[0;31m---------------------------------------------------------------------------\u001b[0m",
      "\u001b[0;31mAttributeError\u001b[0m                            Traceback (most recent call last)",
      "Cell \u001b[0;32mIn [5], line 2\u001b[0m\n\u001b[1;32m      1\u001b[0m \u001b[39mif\u001b[39;00m \u001b[39m__name__\u001b[39m \u001b[39m==\u001b[39m \u001b[39m\"\u001b[39m\u001b[39m__main__\u001b[39m\u001b[39m\"\u001b[39m:\n\u001b[0;32m----> 2\u001b[0m     main()\n",
      "Cell \u001b[0;32mIn [4], line 11\u001b[0m, in \u001b[0;36mmain\u001b[0;34m()\u001b[0m\n\u001b[1;32m      8\u001b[0m initial_cash \u001b[39m=\u001b[39m \u001b[39m1000\u001b[39m\n\u001b[1;32m     10\u001b[0m \u001b[39m# Get historical data for initialization\u001b[39;00m\n\u001b[0;32m---> 11\u001b[0m historical_data \u001b[39m=\u001b[39m api\u001b[39m.\u001b[39;49mget_barset(symbol, \u001b[39m'\u001b[39m\u001b[39m1Min\u001b[39m\u001b[39m'\u001b[39m, limit\u001b[39m=\u001b[39mlong_window\u001b[39m+\u001b[39m\u001b[39m1\u001b[39m)\u001b[39m.\u001b[39mdf[symbol]\n\u001b[1;32m     13\u001b[0m \u001b[39m# Initialize prices list with historical data\u001b[39;00m\n\u001b[1;32m     14\u001b[0m prices \u001b[39m=\u001b[39m \u001b[39mlist\u001b[39m(historical_data[\u001b[39m'\u001b[39m\u001b[39mclose\u001b[39m\u001b[39m'\u001b[39m])\n",
      "\u001b[0;31mAttributeError\u001b[0m: 'REST' object has no attribute 'get_barset'"
     ]
    }
   ],
   "source": [
    "if __name__ == \"__main__\":\n",
    "    main()"
   ]
  }
 ],
 "metadata": {
  "kernelspec": {
   "display_name": "Python 3 (ipykernel)",
   "language": "python",
   "name": "python3"
  },
  "language_info": {
   "codemirror_mode": {
    "name": "ipython",
    "version": 3
   },
   "file_extension": ".py",
   "mimetype": "text/x-python",
   "name": "python",
   "nbconvert_exporter": "python",
   "pygments_lexer": "ipython3",
   "version": "3.10.7"
  },
  "vscode": {
   "interpreter": {
    "hash": "7e1998ff7f8aa20ada591c520b972326324e5ea05489af9e422744c7c09f6dad"
   }
  }
 },
 "nbformat": 4,
 "nbformat_minor": 5
}
