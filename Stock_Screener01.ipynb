{
 "cells": [
  {
   "cell_type": "code",
   "execution_count": 2,
   "id": "406b12a2",
   "metadata": {
    "tags": []
   },
   "outputs": [
    {
     "name": "stdout",
     "output_type": "stream",
     "text": [
      "    Ticker\n",
      "0      MMM\n",
      "1      AOS\n",
      "2      ABT\n",
      "3     ABBV\n",
      "4     ABMD\n",
      "..     ...\n",
      "498   XLNX\n",
      "499    XYL\n",
      "500    YUM\n",
      "501   ZBRA\n",
      "502    ZBH\n",
      "\n",
      "[503 rows x 1 columns]\n"
     ]
    }
   ],
   "source": [
    "import pandas as pd\n",
    "import datetime as datetime\n",
    "import time as time \n",
    "import numpy as np\n",
    "import talib as talib\n",
    "\n",
    "stocks = pd.read_csv('sp_500_stocks.csv')\n",
    "print(stocks)\n",
    "# days = 365\n",
    "# ma = 200 / 'Close'\n",
    "# price = df['Close']\n",
    "# #ma_200 = \n",
    "\n",
    "# start = dt.datetime.now() - dt.timedelta(days)\n",
    "# end = dt.datetime.now()\n",
    "    \n",
    "\n"
   ]
  },
  {
   "cell_type": "code",
   "execution_count": 45,
   "id": "2059f42b",
   "metadata": {},
   "outputs": [
    {
     "ename": "ValueError",
     "evalue": "The truth value of a Series is ambiguous. Use a.empty, a.bool(), a.item(), a.any() or a.all().",
     "output_type": "error",
     "traceback": [
      "\u001b[0;31m---------------------------------------------------------------------------\u001b[0m",
      "\u001b[0;31mValueError\u001b[0m                                Traceback (most recent call last)",
      "\u001b[0;32m/var/folders/bv/pfszzv110gjdck_cpdk76h980000gn/T/ipykernel_3135/1119067717.py\u001b[0m in \u001b[0;36m<module>\u001b[0;34m\u001b[0m\n\u001b[1;32m     21\u001b[0m \u001b[0;34m\u001b[0m\u001b[0m\n\u001b[1;32m     22\u001b[0m \u001b[0;34m\u001b[0m\u001b[0m\n\u001b[0;32m---> 23\u001b[0;31m     \u001b[0;32mif\u001b[0m \u001b[0mprice_30\u001b[0m \u001b[0;34m<\u001b[0m \u001b[0mma_50\u001b[0m\u001b[0;34m:\u001b[0m\u001b[0;34m\u001b[0m\u001b[0;34m\u001b[0m\u001b[0m\n\u001b[0m\u001b[1;32m     24\u001b[0m         \u001b[0mbuys\u001b[0m\u001b[0;34m.\u001b[0m\u001b[0mappend\u001b[0m\u001b[0;34m(\u001b[0m\u001b[0mticker\u001b[0m\u001b[0;34m)\u001b[0m\u001b[0;34m\u001b[0m\u001b[0;34m\u001b[0m\u001b[0m\n\u001b[1;32m     25\u001b[0m \u001b[0;34m\u001b[0m\u001b[0m\n",
      "\u001b[0;32m/opt/anaconda3/lib/python3.9/site-packages/pandas/core/generic.py\u001b[0m in \u001b[0;36m__nonzero__\u001b[0;34m(self)\u001b[0m\n\u001b[1;32m   1525\u001b[0m     \u001b[0;34m@\u001b[0m\u001b[0mfinal\u001b[0m\u001b[0;34m\u001b[0m\u001b[0;34m\u001b[0m\u001b[0m\n\u001b[1;32m   1526\u001b[0m     \u001b[0;32mdef\u001b[0m \u001b[0m__nonzero__\u001b[0m\u001b[0;34m(\u001b[0m\u001b[0mself\u001b[0m\u001b[0;34m)\u001b[0m\u001b[0;34m:\u001b[0m\u001b[0;34m\u001b[0m\u001b[0;34m\u001b[0m\u001b[0m\n\u001b[0;32m-> 1527\u001b[0;31m         raise ValueError(\n\u001b[0m\u001b[1;32m   1528\u001b[0m             \u001b[0;34mf\"The truth value of a {type(self).__name__} is ambiguous. \"\u001b[0m\u001b[0;34m\u001b[0m\u001b[0;34m\u001b[0m\u001b[0m\n\u001b[1;32m   1529\u001b[0m             \u001b[0;34m\"Use a.empty, a.bool(), a.item(), a.any() or a.all().\"\u001b[0m\u001b[0;34m\u001b[0m\u001b[0;34m\u001b[0m\u001b[0m\n",
      "\u001b[0;31mValueError\u001b[0m: The truth value of a Series is ambiguous. Use a.empty, a.bool(), a.item(), a.any() or a.all()."
     ]
    }
   ],
   "source": [
    "period1 = int(time.mktime(datetime.datetime(2022, 1, 2, 23, 59).timetuple()))\n",
    "period2 = int(time.mktime(datetime.datetime(2023, 1, 27, 23, 59).timetuple()))\n",
    "interval = '1d' # 1wk, 1m\n",
    "\n",
    "buys = []\n",
    "\n",
    "for ticker in stocks['Ticker']:\n",
    "    \n",
    "    url = f'https://query1.finance.yahoo.com/v7/finance/download/{ticker}?period1={period1}&period2={period2}&interval={interval}&events=history&includeAdjustedClose=true' \n",
    "    \n",
    "    try:\n",
    "        df = pd.read_csv(url)\n",
    "\n",
    "    \n",
    "    except:\n",
    "        continue\n",
    "        \n",
    "    ma_50 = df['Close'].rolling(50).mean()\n",
    "    p = df['Close']\n",
    "    price_30 = ((p * 0.30)+p)\n",
    "\n",
    "   \n",
    "    if price_30 < ma_50:\n",
    "        buys.append(ticker)\n",
    "    \n",
    "        print(buys)\n",
    "    \n",
    "    #print(df)\n",
    "    #print(ma_200)\n",
    "    #ma_200.plot()\n",
    "    "
   ]
  }
 ],
 "metadata": {
  "kernelspec": {
   "display_name": "Python 3.9.13 ('base')",
   "language": "python",
   "name": "python3"
  },
  "language_info": {
   "codemirror_mode": {
    "name": "ipython",
    "version": 3
   },
   "file_extension": ".py",
   "mimetype": "text/x-python",
   "name": "python",
   "nbconvert_exporter": "python",
   "pygments_lexer": "ipython3",
   "version": "3.9.13"
  },
  "vscode": {
   "interpreter": {
    "hash": "40d3a090f54c6569ab1632332b64b2c03c39dcf918b08424e98f38b5ae0af88f"
   }
  }
 },
 "nbformat": 4,
 "nbformat_minor": 5
}
