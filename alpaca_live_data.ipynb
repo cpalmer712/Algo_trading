{
 "cells": [
  {
   "cell_type": "code",
   "execution_count": 70,
   "id": "f3ef708e",
   "metadata": {},
   "outputs": [],
   "source": [
    "import pandas as pd\n",
    "import time\n",
    "from alpaca.trading.client import TradingClient\n",
    "from alpaca.trading.requests import MarketOrderRequest\n",
    "from alpaca.trading.enums import OrderSide, TimeInForce\n",
    "from my_secrets import APCA_API_KEY_ID, APCA_API_SECRET_KEY"
   ]
  },
  {
   "cell_type": "code",
   "execution_count": 75,
   "id": "3ffdc660",
   "metadata": {},
   "outputs": [],
   "source": [
    "#Data set & columns\n",
    "df = pd.read_csv('out.csv')\n",
    "columns = ['Open', 'Close', 'Timestamp']\n",
    "df.columns = columns\n",
    "df['Timestamp'] = pd.to_datetime(df['Timestamp'])\n",
    "\n",
    "market_order_data_buy = MarketOrderRequest(symbol=\"BTCUSD\", qty=0.1, side=OrderSide.BUY, time_in_force=TimeInForce.GTC)\n",
    "market_order_data_sell = MarketOrderRequest(symbol=\"BTCUSD\", qty=0.1, side=OrderSide.SELL, time_in_force=TimeInForce.GTC)\n",
    "trading_client = TradingClient(APCA_API_KEY_ID, APCA_API_SECRET_KEY, paper=True)\n"
   ]
  },
  {
   "cell_type": "markdown",
   "id": "3709f64e",
   "metadata": {},
   "source": [
    "STOCHASTIC OSCILLATOR"
   ]
  },
  {
   "cell_type": "markdown",
   "id": "f7bd4bad",
   "metadata": {},
   "source": [
    "MACD"
   ]
  },
  {
   "cell_type": "code",
   "execution_count": 76,
   "id": "e0d78c59",
   "metadata": {},
   "outputs": [
    {
     "name": "stdout",
     "output_type": "stream",
     "text": [
      "Bought some BTC\n",
      "Sold some BTC \n",
      "Bought some BTC\n",
      "Sold some BTC \n",
      "Bought some BTC\n",
      "Sold some BTC \n",
      "Bought some BTC\n",
      "Bought some BTC\n",
      "Sold some BTC \n",
      "Bought some BTC\n",
      "Sold some BTC \n",
      "Bought some BTC\n",
      "Sold some BTC \n",
      "Bought some BTC\n",
      "Bought some BTC\n",
      "Sold some BTC \n",
      "Bought some BTC\n",
      "Sold some BTC \n",
      "Bought some BTC\n",
      "Sold some BTC \n",
      "Bought some BTC\n",
      "Bought some BTC\n",
      "Sold some BTC \n",
      "Bought some BTC\n",
      "Sold some BTC \n",
      "Bought some BTC\n",
      "Sold some BTC \n",
      "Bought some BTC\n"
     ]
    },
    {
     "ename": "KeyboardInterrupt",
     "evalue": "",
     "output_type": "error",
     "traceback": [
      "\u001b[0;31m---------------------------------------------------------------------------\u001b[0m",
      "\u001b[0;31mKeyboardInterrupt\u001b[0m                         Traceback (most recent call last)",
      "Cell \u001b[0;32mIn [76], line 29\u001b[0m\n\u001b[1;32m     27\u001b[0m \u001b[39mwhile\u001b[39;00m \u001b[39mTrue\u001b[39;00m:\n\u001b[1;32m     28\u001b[0m     generate_signals(df)\n\u001b[0;32m---> 29\u001b[0m     time\u001b[39m.\u001b[39;49msleep(\u001b[39m60\u001b[39;49m)\n",
      "\u001b[0;31mKeyboardInterrupt\u001b[0m: "
     ]
    }
   ],
   "source": [
    "#Calculates divergence of stock price momentum \n",
    "exp1 = df['Close'].ewm(span=12).mean()\n",
    "exp2 = df['Close'].ewm(span=26).mean() \n",
    "macd = exp1 - exp2\n",
    "signal = macd.ewm(span=9).mean()\n",
    "\n",
    "\n",
    "def generate_signals(df):\n",
    "    signals = []\n",
    "    buy = trading_client.submit_order(order_data = market_order_data_buy)\n",
    "    sell = trading_client.submit_order(order_data = market_order_data_sell)\n",
    "    for i in range(1, len(df)):\n",
    "        if macd.iloc[i] > signal.iloc[i] and macd.iloc[i-1] <= signal.iloc[i-1]:\n",
    "            buy\n",
    "            print('Sell')\n",
    "            #signals.append('Buy')   # Buy\n",
    "        elif macd.iloc[i] < signal.iloc[i] and macd.iloc[i-1] >= signal.iloc[i-1]:\n",
    "            sell\n",
    "            print(\"Buy \")\n",
    "            #signals.append('Sell')  # Sell\n",
    "        else:\n",
    "            None   # Hold\n",
    "\n",
    "    return signals\n",
    "\n",
    "\n",
    "while True:\n",
    "    generate_signals(df)\n",
    "    time.sleep(60)\n",
    "    "
   ]
  },
  {
   "cell_type": "code",
   "execution_count": null,
   "id": "8ec0b5a7",
   "metadata": {},
   "outputs": [
    {
     "name": "stdout",
     "output_type": "stream",
     "text": [
      "2     False\n",
      "9     False\n",
      "10    False\n",
      "11    False\n",
      "12    False\n",
      "13    False\n",
      "14     True\n",
      "15     True\n",
      "16     True\n",
      "17     True\n",
      "18     True\n",
      "19    False\n",
      "20     True\n",
      "21     True\n",
      "22     True\n",
      "23     True\n",
      "24     True\n",
      "25     True\n",
      "26     True\n",
      "27     True\n",
      "28     True\n",
      "29     True\n",
      "30     True\n",
      "31     True\n",
      "32     True\n",
      "33     True\n",
      "76     True\n",
      "77     True\n",
      "78     True\n",
      "79     True\n",
      "80    False\n",
      "81    False\n",
      "82    False\n",
      "83    False\n",
      "84     True\n",
      "85     True\n",
      "86     True\n",
      "87     True\n",
      "88     True\n",
      "89     True\n",
      "90     True\n",
      "91     True\n",
      "92     True\n",
      "Name: Close, dtype: bool\n"
     ]
    }
   ],
   "source": [
    "#need to find a way to select values where MACD is separated from the\n",
    "#the signal by a difference of +-3\n",
    "\n",
    "msell = macd.loc[macd>signal]\n",
    "mbuy = macd.loc[macd<signal]\n",
    "\n",
    "def is_greater_equal_plusminus_3(value):\n",
    "    return abs(value) >= 3\n",
    "\n",
    "print(is_greater_equal_plusminus_3(mbuy))"
   ]
  },
  {
   "cell_type": "code",
   "execution_count": 34,
   "id": "6bd89f11",
   "metadata": {},
   "outputs": [
    {
     "data": {
      "text/plain": [
       "(<AxesSubplot: >, <AxesSubplot: >)"
      ]
     },
     "execution_count": 34,
     "metadata": {},
     "output_type": "execute_result"
    },
    {
     "data": {
      "image/png": "[encoded data removed]",
      "text/plain": [
       "<Figure size 640x480 with 1 Axes>"
      ]
     },
     "metadata": {},
     "output_type": "display_data"
    }
   ],
   "source": [
    "#Plotting Variables\n",
    "#when MACD is greater than signal, the price goes up\n",
    "macd.plot(color='blue'), signal.plot(color='orange')\n",
    "#df['close'].plot(secondary_y=True)\n"
   ]
  },
  {
   "cell_type": "code",
   "execution_count": null,
   "id": "25747710",
   "metadata": {},
   "outputs": [],
   "source": [
    " #OSCILLATOR FORMULA\n",
    "\n",
    "#14 day low average \n",
    "L14 = df['Low'].rolling(14).min()\n",
    "H14 = df['High'].rolling(14).max()\n",
    "    \n",
    "#formula variables \n",
    "C = df['Close']\n",
    "K = ((C - L14) * 100 / (H14 - L14))\n",
    "\n",
    "Dvalue = K.rolling(3).mean()   \n",
    "\n",
    "#BUY AND SELL SIGNAL\n",
    "#finding values less than 20 and more than 80\n",
    "osell = Dvalue.loc[Dvalue>80]\n",
    "obuy = Dvalue.loc[Dvalue<20]\n"
   ]
  },
  {
   "cell_type": "markdown",
   "id": "1690ea08",
   "metadata": {},
   "source": [
    "Bollinger Bands"
   ]
  },
  {
   "cell_type": "code",
   "execution_count": null,
   "id": "674e7f46",
   "metadata": {},
   "outputs": [],
   "source": []
  },
  {
   "cell_type": "code",
   "execution_count": 35,
   "id": "8db5a60c",
   "metadata": {},
   "outputs": [],
   "source": [
    "#BB formula and variables\n",
    "ma_30 = df['Close'].rolling(window=30).mean()\n",
    "std_20 = df['Close'].rolling(window=20).std() \n",
    "upper = (ma_30 + 2*std_20)\n",
    "lower = (ma_30 - 2*std_20)\n"
   ]
  },
  {
   "cell_type": "code",
   "execution_count": 12,
   "id": "11312503",
   "metadata": {},
   "outputs": [],
   "source": [
    "#selecting dates and values where the price is greater than the upper\n",
    "#and less than the lower\n",
    "bsell = df['Close'].loc[df['Close']>upper]\n",
    "bbuy = df['Close'].loc[df['Close']<lower]\n"
   ]
  },
  {
   "cell_type": "code",
   "execution_count": 36,
   "id": "36ef5885",
   "metadata": {
    "scrolled": true
   },
   "outputs": [
    {
     "data": {
      "text/plain": [
       "<AxesSubplot: >"
      ]
     },
     "execution_count": 36,
     "metadata": {},
     "output_type": "execute_result"
    },
    {
     "data": {
      "image/png": "[encoded data removed]",
      "text/plain": [
       "<Figure size 640x480 with 1 Axes>"
      ]
     },
     "metadata": {},
     "output_type": "display_data"
    }
   ],
   "source": [
    "#Plotting buy and sell signals\n",
    "bsell.plot(color='red', linestyle='dotted')\n",
    "bbuy.plot(color='green', linestyle='dotted')\n",
    "df['Close'].plot(color='pink')\n",
    "\n",
    "#Graph\n",
    "upper.plot(color='blue')\n",
    "lower.plot(color='blue')\n"
   ]
  }
 ],
 "metadata": {
  "kernelspec": {
   "display_name": "Python 3 (ipykernel)",
   "language": "python",
   "name": "python3"
  },
  "language_info": {
   "codemirror_mode": {
    "name": "ipython",
    "version": 3
   },
   "file_extension": ".py",
   "mimetype": "text/x-python",
   "name": "python",
   "nbconvert_exporter": "python",
   "pygments_lexer": "ipython3",
   "version": "3.10.7"
  },
  "vscode": {
   "interpreter": {
    "hash": "7e1998ff7f8aa20ada591c520b972326324e5ea05489af9e422744c7c09f6dad"
   }
  }
 },
 "nbformat": 4,
 "nbformat_minor": 5
}
