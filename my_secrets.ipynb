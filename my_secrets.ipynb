{
 "cells": [
  {
   "cell_type": "code",
   "execution_count": 2,
   "id": "a9871a63",
   "metadata": {},
   "outputs": [],
   "source": [
    "IEX_CLOUD_API_TOKEN = 'pk_1d6af356ae4d4a7fa81d84d6921babb2'"
   ]
  },
  {
   "cell_type": "code",
   "execution_count": null,
   "id": "0872d621",
   "metadata": {},
   "outputs": [],
   "source": []
  }
 ],
 "metadata": {
  "kernelspec": {
   "display_name": "Python 3 (ipykernel)",
   "language": "python",
   "name": "python3"
  },
  "language_info": {
   "codemirror_mode": {
    "name": "ipython",
    "version": 3
   },
   "file_extension": ".py",
   "mimetype": "text/x-python",
   "name": "python",
   "nbconvert_exporter": "python",
   "pygments_lexer": "ipython3",
   "version": "3.10.7"
  }
 },
 "nbformat": 4,
 "nbformat_minor": 5
}
