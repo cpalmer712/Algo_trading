{
 "cells": [
  {
   "cell_type": "code",
   "execution_count": 1,
   "id": "f3ef708e",
   "metadata": {},
   "outputs": [],
   "source": [
    "import time as time\n",
    "import datetime as datetime\n",
    "import pandas as pd\n",
    "import matplotlib as plt"
   ]
  },
  {
   "cell_type": "code",
   "execution_count": 22,
   "id": "fc489575",
   "metadata": {},
   "outputs": [
    {
     "data": {
      "text/plain": [
       "<bound method NDFrame.head of Empty DataFrame\n",
       "Columns: [[1691006100000000000], [29141.3], [29141.3].1, [29133.5], [29133.5].1, [0.45522596]]\n",
       "Index: []>"
      ]
     },
     "execution_count": 22,
     "metadata": {},
     "output_type": "execute_result"
    }
   ],
   "source": [
    "#Data set & columns\n",
    "df = pd.read_csv('out.csv')\n",
    "df.head()"
   ]
  },
  {
   "cell_type": "markdown",
   "id": "3709f64e",
   "metadata": {},
   "source": [
    "STOCHASTIC OSCILLATOR"
   ]
  },
  {
   "cell_type": "code",
   "execution_count": 11,
   "id": "c0ae6bf3",
   "metadata": {
    "scrolled": true
   },
   "outputs": [
    {
     "ename": "KeyError",
     "evalue": "'low'",
     "output_type": "error",
     "traceback": [
      "\u001b[0;31m---------------------------------------------------------------------------\u001b[0m",
      "\u001b[0;31mKeyError\u001b[0m                                  Traceback (most recent call last)",
      "File \u001b[0;32m/Library/Frameworks/Python.framework/Versions/3.10/lib/python3.10/site-packages/pandas/core/indexes/base.py:3653\u001b[0m, in \u001b[0;36mIndex.get_loc\u001b[0;34m(self, key)\u001b[0m\n\u001b[1;32m   3652\u001b[0m \u001b[39mtry\u001b[39;00m:\n\u001b[0;32m-> 3653\u001b[0m     \u001b[39mreturn\u001b[39;00m \u001b[39mself\u001b[39;49m\u001b[39m.\u001b[39;49m_engine\u001b[39m.\u001b[39;49mget_loc(casted_key)\n\u001b[1;32m   3654\u001b[0m \u001b[39mexcept\u001b[39;00m \u001b[39mKeyError\u001b[39;00m \u001b[39mas\u001b[39;00m err:\n",
      "File \u001b[0;32m/Library/Frameworks/Python.framework/Versions/3.10/lib/python3.10/site-packages/pandas/_libs/index.pyx:147\u001b[0m, in \u001b[0;36mpandas._libs.index.IndexEngine.get_loc\u001b[0;34m()\u001b[0m\n",
      "File \u001b[0;32m/Library/Frameworks/Python.framework/Versions/3.10/lib/python3.10/site-packages/pandas/_libs/index.pyx:176\u001b[0m, in \u001b[0;36mpandas._libs.index.IndexEngine.get_loc\u001b[0;34m()\u001b[0m\n",
      "File \u001b[0;32mpandas/_libs/hashtable_class_helper.pxi:7080\u001b[0m, in \u001b[0;36mpandas._libs.hashtable.PyObjectHashTable.get_item\u001b[0;34m()\u001b[0m\n",
      "File \u001b[0;32mpandas/_libs/hashtable_class_helper.pxi:7088\u001b[0m, in \u001b[0;36mpandas._libs.hashtable.PyObjectHashTable.get_item\u001b[0;34m()\u001b[0m\n",
      "\u001b[0;31mKeyError\u001b[0m: 'low'",
      "\nThe above exception was the direct cause of the following exception:\n",
      "\u001b[0;31mKeyError\u001b[0m                                  Traceback (most recent call last)",
      "Cell \u001b[0;32mIn [11], line 4\u001b[0m\n\u001b[1;32m      1\u001b[0m \u001b[39m#OSCILLATOR FORMULA\u001b[39;00m\n\u001b[1;32m      2\u001b[0m \n\u001b[1;32m      3\u001b[0m \u001b[39m#14 day low average \u001b[39;00m\n\u001b[0;32m----> 4\u001b[0m L14 \u001b[39m=\u001b[39m df[\u001b[39m'\u001b[39;49m\u001b[39mlow\u001b[39;49m\u001b[39m'\u001b[39;49m]\u001b[39m.\u001b[39mrolling(\u001b[39m14\u001b[39m)\u001b[39m.\u001b[39mmin()\n\u001b[1;32m      5\u001b[0m H14 \u001b[39m=\u001b[39m df[\u001b[39m'\u001b[39m\u001b[39mhigh\u001b[39m\u001b[39m'\u001b[39m]\u001b[39m.\u001b[39mrolling(\u001b[39m14\u001b[39m)\u001b[39m.\u001b[39mmax()\n\u001b[1;32m      7\u001b[0m \u001b[39m#formula variables \u001b[39;00m\n",
      "File \u001b[0;32m/Library/Frameworks/Python.framework/Versions/3.10/lib/python3.10/site-packages/pandas/core/frame.py:3761\u001b[0m, in \u001b[0;36mDataFrame.__getitem__\u001b[0;34m(self, key)\u001b[0m\n\u001b[1;32m   3759\u001b[0m \u001b[39mif\u001b[39;00m \u001b[39mself\u001b[39m\u001b[39m.\u001b[39mcolumns\u001b[39m.\u001b[39mnlevels \u001b[39m>\u001b[39m \u001b[39m1\u001b[39m:\n\u001b[1;32m   3760\u001b[0m     \u001b[39mreturn\u001b[39;00m \u001b[39mself\u001b[39m\u001b[39m.\u001b[39m_getitem_multilevel(key)\n\u001b[0;32m-> 3761\u001b[0m indexer \u001b[39m=\u001b[39m \u001b[39mself\u001b[39;49m\u001b[39m.\u001b[39;49mcolumns\u001b[39m.\u001b[39;49mget_loc(key)\n\u001b[1;32m   3762\u001b[0m \u001b[39mif\u001b[39;00m is_integer(indexer):\n\u001b[1;32m   3763\u001b[0m     indexer \u001b[39m=\u001b[39m [indexer]\n",
      "File \u001b[0;32m/Library/Frameworks/Python.framework/Versions/3.10/lib/python3.10/site-packages/pandas/core/indexes/base.py:3655\u001b[0m, in \u001b[0;36mIndex.get_loc\u001b[0;34m(self, key)\u001b[0m\n\u001b[1;32m   3653\u001b[0m     \u001b[39mreturn\u001b[39;00m \u001b[39mself\u001b[39m\u001b[39m.\u001b[39m_engine\u001b[39m.\u001b[39mget_loc(casted_key)\n\u001b[1;32m   3654\u001b[0m \u001b[39mexcept\u001b[39;00m \u001b[39mKeyError\u001b[39;00m \u001b[39mas\u001b[39;00m err:\n\u001b[0;32m-> 3655\u001b[0m     \u001b[39mraise\u001b[39;00m \u001b[39mKeyError\u001b[39;00m(key) \u001b[39mfrom\u001b[39;00m \u001b[39merr\u001b[39;00m\n\u001b[1;32m   3656\u001b[0m \u001b[39mexcept\u001b[39;00m \u001b[39mTypeError\u001b[39;00m:\n\u001b[1;32m   3657\u001b[0m     \u001b[39m# If we have a listlike key, _check_indexing_error will raise\u001b[39;00m\n\u001b[1;32m   3658\u001b[0m     \u001b[39m#  InvalidIndexError. Otherwise we fall through and re-raise\u001b[39;00m\n\u001b[1;32m   3659\u001b[0m     \u001b[39m#  the TypeError.\u001b[39;00m\n\u001b[1;32m   3660\u001b[0m     \u001b[39mself\u001b[39m\u001b[39m.\u001b[39m_check_indexing_error(key)\n",
      "\u001b[0;31mKeyError\u001b[0m: 'low'"
     ]
    }
   ],
   "source": [
    " #OSCILLATOR FORMULA\n",
    "\n",
    "#14 day low average \n",
    "L14 = df['low'].rolling(14).min()\n",
    "H14 = df['high'].rolling(14).max()\n",
    "    \n",
    "#formula variables \n",
    "C = df['close']\n",
    "K = ((C - L14) * 100 / (H14 - L14))\n",
    "\n",
    "Dvalue = K.rolling(3).mean()   "
   ]
  },
  {
   "cell_type": "code",
   "execution_count": null,
   "id": "9778f1ae",
   "metadata": {},
   "outputs": [],
   "source": [
    "#BUY AND SELL SIGNAL\n",
    "#finding values less than 20 and more than 80\n",
    "osell = Dvalue.loc[Dvalue>80]\n",
    "obuy = Dvalue.loc[Dvalue<20]\n"
   ]
  },
  {
   "cell_type": "code",
   "execution_count": null,
   "id": "4f60af04",
   "metadata": {},
   "outputs": [],
   "source": [
    "#Sell Signal\n",
    "osell.plot(color='red', linestyle='dotted')\n",
    "\n",
    "#Buy Signal\n",
    "obuy.plot(color='green', linestyle='dotted')\n",
    "Dvalue.plot()\n",
    "##df['close'].plot()\n"
   ]
  },
  {
   "cell_type": "markdown",
   "id": "f7bd4bad",
   "metadata": {},
   "source": [
    "MACD"
   ]
  },
  {
   "cell_type": "code",
   "execution_count": null,
   "id": "e0d78c59",
   "metadata": {},
   "outputs": [],
   "source": [
    "#Calculates divergence of stock price momentum \n",
    "\n",
    "exp1 = df['Close'].ewm(span=12).mean()\n",
    "exp2 = df['Close'].ewm(span=26).mean() \n",
    "macd = exp1 - exp2\n",
    "signal = macd.ewm(span=9).mean()\n",
    "signal"
   ]
  },
  {
   "cell_type": "code",
   "execution_count": null,
   "id": "8ec0b5a7",
   "metadata": {},
   "outputs": [],
   "source": [
    "#need to find a way to select values where MACD is separated from the\n",
    "#the signal by a difference of +-3\n",
    "\n",
    "msell = macd.loc[macd>signal]\n",
    "mbuy = macd.loc[macd<signal]\n",
    "msell"
   ]
  },
  {
   "cell_type": "code",
   "execution_count": null,
   "id": "6bd89f11",
   "metadata": {},
   "outputs": [],
   "source": [
    "#Plotting Variables\n",
    "msell.plot(color='red', linestyle='dotted')\n",
    "#mbuy.plot(color='green', linestyle='dotted')\n",
    "macd.plot(color='pink')\n",
    "signal.plot(color='orange')\n",
    "#df['close'].plot(secondary_y=True)\n"
   ]
  },
  {
   "cell_type": "markdown",
   "id": "1690ea08",
   "metadata": {},
   "source": [
    "Bollinger Bands"
   ]
  },
  {
   "cell_type": "code",
   "execution_count": null,
   "id": "8db5a60c",
   "metadata": {},
   "outputs": [],
   "source": [
    "#BB formula and variables\n",
    "ma_30 = df['Close'].rolling(window=30).mean()\n",
    "std_20 = df['Close'].rolling(window=20).std() \n",
    "upper = (ma_30 + 2*std_20)\n",
    "lower = (ma_30 - 2*std_20)\n"
   ]
  },
  {
   "cell_type": "code",
   "execution_count": null,
   "id": "11312503",
   "metadata": {},
   "outputs": [],
   "source": [
    "#selecting dates and values where the price is greater than the upper\n",
    "#and less than the lower\n",
    "bsell = df['Close'].loc[df['Close']>upper]\n",
    "bbuy = df['Close'].loc[df['Close']<lower]\n"
   ]
  },
  {
   "cell_type": "code",
   "execution_count": null,
   "id": "36ef5885",
   "metadata": {
    "scrolled": true
   },
   "outputs": [],
   "source": [
    "#Plotting buy and sell signals\n",
    "bsell.plot(color='red', linestyle='dotted')\n",
    "bbuy.plot(color='green', linestyle='dotted')\n",
    "df['Close'].plot(color='pink')\n",
    "\n",
    "#Graph\n",
    "upper.plot(color='blue')\n",
    "lower.plot(color='blue')\n"
   ]
  }
 ],
 "metadata": {
  "kernelspec": {
   "display_name": "Python 3 (ipykernel)",
   "language": "python",
   "name": "python3"
  },
  "language_info": {
   "codemirror_mode": {
    "name": "ipython",
    "version": 3
   },
   "file_extension": ".py",
   "mimetype": "text/x-python",
   "name": "python",
   "nbconvert_exporter": "python",
   "pygments_lexer": "ipython3",
   "version": "3.10.7"
  },
  "vscode": {
   "interpreter": {
    "hash": "7e1998ff7f8aa20ada591c520b972326324e5ea05489af9e422744c7c09f6dad"
   }
  }
 },
 "nbformat": 4,
 "nbformat_minor": 5
}
